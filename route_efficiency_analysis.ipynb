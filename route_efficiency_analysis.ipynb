{
 "cells": [
  {
   "cell_type": "markdown",
   "metadata": {},
   "source": [
    "import numpy as np\n",
    "import pandas as pd\n",
    "import os\n",
    "from geopy.distance import great_circle\n",
    "%matplotlib inline\n",
    "import matplotlib.pyplot as plt\n",
    "%pwd"
   ]
  },
  {
   "cell_type": "code",
   "execution_count": 20,
   "metadata": {
    "collapsed": true
   },
   "outputs": [],
   "source": [
    "# Import data \n",
    "os.chdir('/Users/karthik/Documents/Codebase/UMD_Data_Challenge/data/airline_tails/')\n",
    "airchina = pd.read_csv('air_china.csv', delimiter = ',')\n",
    "allnippon = pd.read_csv('all_nippon.csv', delimiter = ',')\n",
    "american = pd.read_csv('american.csv', delimiter = ',')\n",
    "britishairways = pd.read_csv('british_airways.csv', delimiter = ',')\n",
    "chinaeast = pd.read_csv('china_eastern.csv', delimiter = ',')\n",
    "chinasouth = pd.read_csv('china_southern.csv', delimiter=',')\n",
    "delta = pd.read_csv('delta.csv', delimiter = ',')\n",
    "emirates = pd.read_csv('emirates.csv', delimiter = ',')\n",
    "etihad = pd.read_csv('etihad.csv', delimiter = ',')\n",
    "lufthansa = pd.read_csv('lufthansa.csv', delimiter = ',')\n",
    "qatar = pd.read_csv('qatar.csv', delimiter = ',')\n",
    "ryan = pd.read_csv('ryanair.csv', delimiter = ',')\n",
    "united = pd.read_csv('united.csv', delimiter = ',')\n",
    "routes = pd.read_csv('./../../routes_cleaned.csv', delimiter=',')\n",
    "airports = pd.read_csv('./../../codebeautify4.csv', delimiter=',')\n",
    "fuel_econ_600 = pd.read_csv('./../../fuel_economy_1_500-660.csv', delimiter=',')\n",
    "fuel_econ_1000 = pd.read_csv('./../../fuel_economy_2_1000.csv', delimiter=',')\n",
    "fuel_econ_3000 = pd.read_csv('./../../fuel_economy_3_2160_3000.csv', delimiter=',')\n",
    "fuel_econ_5000 = pd.read_csv('./../../fuel_economy_4_5000_7600.csv', delimiter=',')"
   ]
  },
  {
   "cell_type": "code",
   "execution_count": 21,
   "metadata": {},
   "outputs": [
    {
     "name": "stdout",
     "output_type": "stream",
     "text": [
      "['model', 'firstflight', 'seats', 'sector', 'fuel_burn', 'fuel_efficiency']\n",
      "['model', 'first_flight', 'seats', 'fuel_burn', 'fuel_efficiency']\n",
      "['model', 'first_flight', 'seats', 'sector', 'fuel_burn', 'fuel_efficiency']\n",
      "['model', 'first_flight', 'seats', 'sector', 'fuel_burn', 'fuel_efficiency']\n"
     ]
    }
   ],
   "source": [
    "print(list(fuel_econ_600))\n",
    "print(list(fuel_econ_1000))\n",
    "print(list(fuel_econ_3000))\n",
    "print(list(fuel_econ_5000))"
   ]
  },
  {
   "cell_type": "code",
   "execution_count": 22,
   "metadata": {
    "collapsed": true
   },
   "outputs": [],
   "source": [
    "# Define functions\n",
    "def fleet_distance(airline_code):\n",
    "    fleet_dist_arr = []\n",
    "    for i, row in routes.iterrows():\n",
    "        if row['Airline'] == airline_code :\n",
    "            dist = get_dist(row['Source_IATA'], row['Dest_IATA'])\n",
    "            fleet_dist_arr.append(np.floor(dist))\n",
    "    fleet_dist_arr = np.unique(fleet_dist_arr)\n",
    "    plt.hist(fleet_dist_arr,bins=7)\n",
    "    return pd.DataFrame(fleet_dist_arr)\n",
    "\n",
    "def get_dist(src, dst):\n",
    "    try:\n",
    "        dst_index = np.asscalar(np.where(airports['iata'] == dst)[0])\n",
    "        src_index = np.asscalar(np.where(airports['iata'] == src)[0])\n",
    "        src = (airports['lat'][src_index], airports['lon'][src_index])\n",
    "        dst = (airports['lat'][dst_index], airports['lon'][dst_index])\n",
    "        return great_circle(src, dst).miles\n",
    "    except ValueError:\n",
    "        return 500"
   ]
  },
  {
   "cell_type": "code",
   "execution_count": 23,
   "metadata": {},
   "outputs": [
    {
     "name": "stdout",
     "output_type": "stream",
     "text": [
      "CPU times: user 16.2 s, sys: 227 ms, total: 16.4 s\n",
      "Wall time: 16.5 s\n"
     ]
    },
    {
     "data": {
      "image/png": "[encoded data removed]",
      "text/plain": [
       "<matplotlib.figure.Figure at 0x1132a5470>"
      ]
     },
     "metadata": {},
     "output_type": "display_data"
    }
   ],
   "source": [
    "%%time\n",
    "AA = fleet_distance('AA') # American\n",
    "UA = fleet_distance('UA') # United \n",
    "DL = fleet_distance('DL') # Delta\n",
    "FR = fleet_distance('FR') # Ryanair\n",
    "LH = fleet_distance('LH') # Lufthansa"
   ]
  },
  {
   "cell_type": "code",
   "execution_count": 53,
   "metadata": {
    "collapsed": true
   },
   "outputs": [],
   "source": [
    "# Functions for efficiency\n",
    "def calc_fleet_eff(airline_code):\n",
    "    eff_count = 0\n",
    "    for i, row in routes.iterrows():\n",
    "        if row['Airline'] == airline_code :\n",
    "            dist = get_dist(row['Source_IATA'], row['Dest_IATA'])\n",
    "            aircraft = row['Aircraft']\n",
    "            if aircraft == 'Other': \n",
    "                pass\n",
    "            elif(most_eff(aircraft, dist) != True):\n",
    "                eff_count+=1\n",
    "    return int(eff_count/2)\n",
    "\n",
    "def most_eff(aircraft, dist):\n",
    "    if dist <= 350:\n",
    "        if aircraft == 'ATR-72':\n",
    "            return True\n",
    "    elif dist <= 660:\n",
    "        if aircraft == 'A321' or aircraft == '737':\n",
    "            return True\n",
    "    elif dist <= 1000:\n",
    "        if aircraft == 'A319':\n",
    "            return True\n",
    "    elif dist <= 3000:\n",
    "        if aircraft == '737' or aircraft == '787' or aircraft == '777':\n",
    "            return True\n",
    "    else :\n",
    "        if aircraft == '787' or aircraft == 'A350' or aircraft == '777':\n",
    "            return True\n",
    "        "
   ]
  },
  {
   "cell_type": "code",
   "execution_count": 72,
   "metadata": {},
   "outputs": [
    {
     "ename": "KeyboardInterrupt",
     "evalue": "",
     "output_type": "error",
     "traceback": [
      "\u001b[0;31m---------------------------------------------------------------------------\u001b[0m",
      "\u001b[0;31mKeyboardInterrupt\u001b[0m                         Traceback (most recent call last)",
      "\u001b[0;32m<ipython-input-72-72315d28d6fc>\u001b[0m in \u001b[0;36m<module>\u001b[0;34m()\u001b[0m\n\u001b[1;32m      2\u001b[0m \u001b[0mUA_eff\u001b[0m \u001b[0;34m=\u001b[0m \u001b[0mcalc_fleet_eff\u001b[0m\u001b[0;34m(\u001b[0m\u001b[0;34m'UA'\u001b[0m\u001b[0;34m)\u001b[0m\u001b[0;34m\u001b[0m\u001b[0m\n\u001b[1;32m      3\u001b[0m \u001b[0mDL_eff\u001b[0m \u001b[0;34m=\u001b[0m \u001b[0mcalc_fleet_eff\u001b[0m\u001b[0;34m(\u001b[0m\u001b[0;34m'DL'\u001b[0m\u001b[0;34m)\u001b[0m\u001b[0;34m\u001b[0m\u001b[0m\n\u001b[0;32m----> 4\u001b[0;31m \u001b[0mFR_eff\u001b[0m \u001b[0;34m=\u001b[0m \u001b[0mcalc_fleet_eff\u001b[0m\u001b[0;34m(\u001b[0m\u001b[0;34m'FR'\u001b[0m\u001b[0;34m)\u001b[0m\u001b[0;34m\u001b[0m\u001b[0m\n\u001b[0m\u001b[1;32m      5\u001b[0m \u001b[0mLH_eff\u001b[0m \u001b[0;34m=\u001b[0m \u001b[0mcalc_fleet_eff\u001b[0m\u001b[0;34m(\u001b[0m\u001b[0;34m'LH'\u001b[0m\u001b[0;34m)\u001b[0m\u001b[0;34m\u001b[0m\u001b[0m\n",
      "\u001b[0;32m<ipython-input-53-49578d3d989a>\u001b[0m in \u001b[0;36mcalc_fleet_eff\u001b[0;34m(airline_code)\u001b[0m\n\u001b[1;32m      4\u001b[0m     \u001b[0;32mfor\u001b[0m \u001b[0mi\u001b[0m\u001b[0;34m,\u001b[0m \u001b[0mrow\u001b[0m \u001b[0;32min\u001b[0m \u001b[0mroutes\u001b[0m\u001b[0;34m.\u001b[0m\u001b[0miterrows\u001b[0m\u001b[0;34m(\u001b[0m\u001b[0;34m)\u001b[0m\u001b[0;34m:\u001b[0m\u001b[0;34m\u001b[0m\u001b[0m\n\u001b[1;32m      5\u001b[0m         \u001b[0;32mif\u001b[0m \u001b[0mrow\u001b[0m\u001b[0;34m[\u001b[0m\u001b[0;34m'Airline'\u001b[0m\u001b[0;34m]\u001b[0m \u001b[0;34m==\u001b[0m \u001b[0mairline_code\u001b[0m \u001b[0;34m:\u001b[0m\u001b[0;34m\u001b[0m\u001b[0m\n\u001b[0;32m----> 6\u001b[0;31m             \u001b[0mdist\u001b[0m \u001b[0;34m=\u001b[0m \u001b[0mget_dist\u001b[0m\u001b[0;34m(\u001b[0m\u001b[0mrow\u001b[0m\u001b[0;34m[\u001b[0m\u001b[0;34m'Source_IATA'\u001b[0m\u001b[0;34m]\u001b[0m\u001b[0;34m,\u001b[0m \u001b[0mrow\u001b[0m\u001b[0;34m[\u001b[0m\u001b[0;34m'Dest_IATA'\u001b[0m\u001b[0;34m]\u001b[0m\u001b[0;34m)\u001b[0m\u001b[0;34m\u001b[0m\u001b[0m\n\u001b[0m\u001b[1;32m      7\u001b[0m             \u001b[0maircraft\u001b[0m \u001b[0;34m=\u001b[0m \u001b[0mrow\u001b[0m\u001b[0;34m[\u001b[0m\u001b[0;34m'Aircraft'\u001b[0m\u001b[0;34m]\u001b[0m\u001b[0;34m\u001b[0m\u001b[0m\n\u001b[1;32m      8\u001b[0m             \u001b[0;32mif\u001b[0m \u001b[0maircraft\u001b[0m \u001b[0;34m==\u001b[0m \u001b[0;34m'Other'\u001b[0m\u001b[0;34m:\u001b[0m\u001b[0;34m\u001b[0m\u001b[0m\n",
      "\u001b[0;32m<ipython-input-22-b95339fa4d52>\u001b[0m in \u001b[0;36mget_dist\u001b[0;34m(src, dst)\u001b[0m\n\u001b[1;32m     12\u001b[0m \u001b[0;32mdef\u001b[0m \u001b[0mget_dist\u001b[0m\u001b[0;34m(\u001b[0m\u001b[0msrc\u001b[0m\u001b[0;34m,\u001b[0m \u001b[0mdst\u001b[0m\u001b[0;34m)\u001b[0m\u001b[0;34m:\u001b[0m\u001b[0;34m\u001b[0m\u001b[0m\n\u001b[1;32m     13\u001b[0m     \u001b[0;32mtry\u001b[0m\u001b[0;34m:\u001b[0m\u001b[0;34m\u001b[0m\u001b[0m\n\u001b[0;32m---> 14\u001b[0;31m         \u001b[0mdst_index\u001b[0m \u001b[0;34m=\u001b[0m \u001b[0mnp\u001b[0m\u001b[0;34m.\u001b[0m\u001b[0masscalar\u001b[0m\u001b[0;34m(\u001b[0m\u001b[0mnp\u001b[0m\u001b[0;34m.\u001b[0m\u001b[0mwhere\u001b[0m\u001b[0;34m(\u001b[0m\u001b[0mairports\u001b[0m\u001b[0;34m[\u001b[0m\u001b[0;34m'iata'\u001b[0m\u001b[0;34m]\u001b[0m \u001b[0;34m==\u001b[0m \u001b[0mdst\u001b[0m\u001b[0;34m)\u001b[0m\u001b[0;34m[\u001b[0m\u001b[0;36m0\u001b[0m\u001b[0;34m]\u001b[0m\u001b[0;34m)\u001b[0m\u001b[0;34m\u001b[0m\u001b[0m\n\u001b[0m\u001b[1;32m     15\u001b[0m         \u001b[0msrc_index\u001b[0m \u001b[0;34m=\u001b[0m \u001b[0mnp\u001b[0m\u001b[0;34m.\u001b[0m\u001b[0masscalar\u001b[0m\u001b[0;34m(\u001b[0m\u001b[0mnp\u001b[0m\u001b[0;34m.\u001b[0m\u001b[0mwhere\u001b[0m\u001b[0;34m(\u001b[0m\u001b[0mairports\u001b[0m\u001b[0;34m[\u001b[0m\u001b[0;34m'iata'\u001b[0m\u001b[0;34m]\u001b[0m \u001b[0;34m==\u001b[0m \u001b[0msrc\u001b[0m\u001b[0;34m)\u001b[0m\u001b[0;34m[\u001b[0m\u001b[0;36m0\u001b[0m\u001b[0;34m]\u001b[0m\u001b[0;34m)\u001b[0m\u001b[0;34m\u001b[0m\u001b[0m\n\u001b[1;32m     16\u001b[0m         \u001b[0msrc\u001b[0m \u001b[0;34m=\u001b[0m \u001b[0;34m(\u001b[0m\u001b[0mairports\u001b[0m\u001b[0;34m[\u001b[0m\u001b[0;34m'lat'\u001b[0m\u001b[0;34m]\u001b[0m\u001b[0;34m[\u001b[0m\u001b[0msrc_index\u001b[0m\u001b[0;34m]\u001b[0m\u001b[0;34m,\u001b[0m \u001b[0mairports\u001b[0m\u001b[0;34m[\u001b[0m\u001b[0;34m'lon'\u001b[0m\u001b[0;34m]\u001b[0m\u001b[0;34m[\u001b[0m\u001b[0msrc_index\u001b[0m\u001b[0;34m]\u001b[0m\u001b[0;34m)\u001b[0m\u001b[0;34m\u001b[0m\u001b[0m\n",
      "\u001b[0;32m~/miniconda2/envs/py36/lib/python3.6/site-packages/pandas/core/ops.py\u001b[0m in \u001b[0;36mwrapper\u001b[0;34m(self, other, axis)\u001b[0m\n\u001b[1;32m    867\u001b[0m             \u001b[0mres\u001b[0m \u001b[0;34m=\u001b[0m \u001b[0m_values_from_object\u001b[0m\u001b[0;34m(\u001b[0m\u001b[0mres\u001b[0m\u001b[0;34m)\u001b[0m\u001b[0;34m\u001b[0m\u001b[0m\n\u001b[1;32m    868\u001b[0m \u001b[0;34m\u001b[0m\u001b[0m\n\u001b[0;32m--> 869\u001b[0;31m         \u001b[0mres\u001b[0m \u001b[0;34m=\u001b[0m \u001b[0mpd\u001b[0m\u001b[0;34m.\u001b[0m\u001b[0mSeries\u001b[0m\u001b[0;34m(\u001b[0m\u001b[0mres\u001b[0m\u001b[0;34m,\u001b[0m \u001b[0mindex\u001b[0m\u001b[0;34m=\u001b[0m\u001b[0mself\u001b[0m\u001b[0;34m.\u001b[0m\u001b[0mindex\u001b[0m\u001b[0;34m,\u001b[0m \u001b[0mname\u001b[0m\u001b[0;34m=\u001b[0m\u001b[0mself\u001b[0m\u001b[0;34m.\u001b[0m\u001b[0mname\u001b[0m\u001b[0;34m,\u001b[0m \u001b[0mdtype\u001b[0m\u001b[0;34m=\u001b[0m\u001b[0;34m'bool'\u001b[0m\u001b[0;34m)\u001b[0m\u001b[0;34m\u001b[0m\u001b[0m\n\u001b[0m\u001b[1;32m    870\u001b[0m         \u001b[0;32mreturn\u001b[0m \u001b[0mres\u001b[0m\u001b[0;34m\u001b[0m\u001b[0m\n\u001b[1;32m    871\u001b[0m \u001b[0;34m\u001b[0m\u001b[0m\n",
      "\u001b[0;32m~/miniconda2/envs/py36/lib/python3.6/site-packages/pandas/core/series.py\u001b[0m in \u001b[0;36m__init__\u001b[0;34m(self, data, index, dtype, name, copy, fastpath)\u001b[0m\n\u001b[1;32m    159\u001b[0m                 \u001b[0mdata\u001b[0m \u001b[0;34m=\u001b[0m \u001b[0;34m{\u001b[0m\u001b[0;34m}\u001b[0m\u001b[0;34m\u001b[0m\u001b[0m\n\u001b[1;32m    160\u001b[0m             \u001b[0;32mif\u001b[0m \u001b[0mdtype\u001b[0m \u001b[0;32mis\u001b[0m \u001b[0;32mnot\u001b[0m \u001b[0;32mNone\u001b[0m\u001b[0;34m:\u001b[0m\u001b[0;34m\u001b[0m\u001b[0m\n\u001b[0;32m--> 161\u001b[0;31m                 \u001b[0mdtype\u001b[0m \u001b[0;34m=\u001b[0m \u001b[0mself\u001b[0m\u001b[0;34m.\u001b[0m\u001b[0m_validate_dtype\u001b[0m\u001b[0;34m(\u001b[0m\u001b[0mdtype\u001b[0m\u001b[0;34m)\u001b[0m\u001b[0;34m\u001b[0m\u001b[0m\n\u001b[0m\u001b[1;32m    162\u001b[0m \u001b[0;34m\u001b[0m\u001b[0m\n\u001b[1;32m    163\u001b[0m             \u001b[0;32mif\u001b[0m \u001b[0misinstance\u001b[0m\u001b[0;34m(\u001b[0m\u001b[0mdata\u001b[0m\u001b[0;34m,\u001b[0m \u001b[0mMultiIndex\u001b[0m\u001b[0;34m)\u001b[0m\u001b[0;34m:\u001b[0m\u001b[0;34m\u001b[0m\u001b[0m\n",
      "\u001b[0;31mKeyboardInterrupt\u001b[0m: "
     ]
    }
   ],
   "source": [
    "AA_eff = calc_fleet_eff('AA')\n",
    "UA_eff = calc_fleet_eff('UA')\n",
    "DL_eff = calc_fleet_eff('DL')\n",
    "FR_eff = calc_fleet_eff('FR')\n",
    "LH_eff = calc_fleet_eff('LH')"
   ]
  },
  {
   "cell_type": "code",
   "execution_count": 74,
   "metadata": {},
   "outputs": [
    {
     "name": "stdout",
     "output_type": "stream",
     "text": [
      "[['AA' '421']\n",
      " ['UA' '308']\n",
      " ['DL' '377']\n",
      " ['FR' '421']\n",
      " ['LH' '298']]\n"
     ]
    }
   ],
   "source": [
    "a = ['AA', AA_eff],['UA', UA_eff],['DL', DL_eff],['FR', AA_eff],['LH', LH_eff]\n",
    "a = np.array(a)\n",
    "#np.savetxt('Fleet_effeciency_route.txt',a)\n",
    "print(a)"
   ]
  },
  {
   "cell_type": "code",
   "execution_count": null,
   "metadata": {
    "collapsed": true
   },
   "outputs": [],
   "source": [
    "a"
   ]
  }
 ],
 "metadata": {
  "kernelspec": {
   "display_name": "Python 3",
   "language": "python",
   "name": "python3"
  },
  "language_info": {
   "codemirror_mode": {
    "name": "ipython",
    "version": 3
   },
   "file_extension": ".py",
   "mimetype": "text/x-python",
   "name": "python",
   "nbconvert_exporter": "python",
   "pygments_lexer": "ipython3",
   "version": "3.6.3"
  }
 },
 "nbformat": 4,
 "nbformat_minor": 2
}
