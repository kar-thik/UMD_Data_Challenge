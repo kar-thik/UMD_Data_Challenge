{
 "cells": [
  {
   "cell_type": "code",
   "execution_count": 1,
   "metadata": {
    "collapsed": true
   },
   "outputs": [],
   "source": [
    "# Import modules\n",
    "import numpy as np\n",
    "import pandas as pd\n",
    "import os\n",
    "from geopy.distance import great_circle\n",
    "%matplotlib inline\n",
    "%pwd\n",
    "import matplotlib.pyplot as plt"
   ]
  },
  {
   "cell_type": "code",
   "execution_count": 2,
   "metadata": {
    "collapsed": true
   },
   "outputs": [],
   "source": [
    "# Import data \n",
    "os.chdir('/Users/karthik/Documents/Codebase/UMD_Data_Challenge/data/airline_tails/')\n",
    "airchina = pd.read_csv('air_china.csv', delimiter = ',')\n",
    "allnippon = pd.read_csv('all_nippon.csv', delimiter = ',')\n",
    "american = pd.read_csv('american.csv', delimiter = ',')\n",
    "britishairways = pd.read_csv('british_airways.csv', delimiter = ',')\n",
    "chinaeast = pd.read_csv('china_eastern.csv', delimiter = ',')\n",
    "chinasouth = pd.read_csv('china_southern.csv', delimiter=',')\n",
    "delta = pd.read_csv('delta.csv', delimiter = ',')\n",
    "emirates = pd.read_csv('emirates.csv', delimiter = ',')\n",
    "etihad = pd.read_csv('etihad.csv', delimiter = ',')\n",
    "lufthansa = pd.read_csv('lufthansa.csv', delimiter = ',')\n",
    "qatar = pd.read_csv('qatar.csv', delimiter = ',')\n",
    "ryan = pd.read_csv('ryanair.csv', delimiter = ',')\n",
    "united = pd.read_csv('united.csv', delimiter = ',')\n",
    "routes = pd.read_csv('../../../Airline_Analysis/data/routes.csv', delimiter=',')\n",
    "airports = pd.read_csv('./../../codebeautify4.csv', delimiter=',')"
   ]
  },
  {
   "cell_type": "code",
   "execution_count": 6,
   "metadata": {
    "collapsed": true
   },
   "outputs": [],
   "source": [
    "# Define functions\n",
    "def fleet_distance(airline_code):\n",
    "    fleet_dist_arr = []\n",
    "    for i, row in routes.iterrows():\n",
    "        if row['Airline'] == airline_code :\n",
    "            dist = get_dist(row['Source_IATA'], row['Dest_IATA'])\n",
    "            fleet_dist_arr.append(np.floor(dist))\n",
    "    fleet_dist_arr = np.unique(fleet_dist_arr)\n",
    "    plt.hist(fleet_dist_arr,bins=7)\n",
    "    return pd.DataFrame(fleet_dist_arr)\n",
    "\n",
    "def get_dist(src, dst):\n",
    "    try:\n",
    "        dst_index = np.asscalar(np.where(airports['iata'] == dst)[0])\n",
    "        src_index = np.asscalar(np.where(airports['iata'] == src)[0])\n",
    "        src = (airports['lat'][src_index], airports['lon'][src_index])\n",
    "        dst = (airports['lat'][dst_index], airports['lon'][dst_index])\n",
    "        return great_circle(src, dst).miles\n",
    "    except ValueError:\n",
    "        return 500"
   ]
  },
  {
   "cell_type": "code",
   "execution_count": 7,
   "metadata": {},
   "outputs": [
    {
     "name": "stdout",
     "output_type": "stream",
     "text": [
      "CPU times: user 1min 3s, sys: 339 ms, total: 1min 3s\n",
      "Wall time: 1min 3s\n"
     ]
    },
    {
     "data": {
      "image/png": "[encoded data removed]",
      "text/plain": [
       "<matplotlib.figure.Figure at 0x10e4cf400>"
      ]
     },
     "metadata": {},
     "output_type": "display_data"
    }
   ],
   "source": [
    "%%time\n",
    "CA = fleet_distance('CA') # Air China\n",
    "NH = fleet_distance('NH') # All Nippon\n",
    "AA = fleet_distance('AA') # American\n",
    "BA = fleet_distance('BA') # British\n",
    "MU = fleet_distance('MU') # China East\n",
    "CZ = fleet_distance('CZ') # Chize South\n",
    "DL = fleet_distance('DL') # Delta\n",
    "EK = fleet_distance('EK') # Emirates\n",
    "EY = fleet_distance('EY') # Etihad\n",
    "LH = fleet_distance('LH') # Lufthansa\n",
    "FR = fleet_distance('FR') # Ryanair\n",
    "QR = fleet_distance('QR') # Qatar\n",
    "UA = fleet_distance('UA') # United"
   ]
  },
  {
   "cell_type": "code",
   "execution_count": 26,
   "metadata": {
    "collapsed": true
   },
   "outputs": [],
   "source": [
    "data_dist = [CA,NH,AA,BA,MU,CZ,DL,EK,EY,LH,FR,QR,UA]\n",
    "#plt.plot(data_dist)\n",
    "#data_dist = list(map(list, zip(*data_dist)))\n",
    "#data_dist = np.asarray(data_dist)\n",
    "test_df = pd.concat([CA,NH,AA,BA,MU,CZ,DL,EK,EY,LH,FR,QR,UA], axis=0, ignore_index=True)"
   ]
  },
  {
   "cell_type": "code",
   "execution_count": 48,
   "metadata": {},
   "outputs": [
    {
     "data": {
      "text/html": [
       "<div>\n",
       "<style>\n",
       "    .dataframe thead tr:only-child th {\n",
       "        text-align: right;\n",
       "    }\n",
       "\n",
       "    .dataframe thead th {\n",
       "        text-align: left;\n",
       "    }\n",
       "\n",
       "    .dataframe tbody tr th {\n",
       "        vertical-align: top;\n",
       "    }\n",
       "</style>\n",
       "<table border=\"1\" class=\"dataframe\">\n",
       "  <thead>\n",
       "    <tr style=\"text-align: right;\">\n",
       "      <th></th>\n",
       "      <th>0</th>\n",
       "    </tr>\n",
       "  </thead>\n",
       "  <tbody>\n",
       "    <tr>\n",
       "      <th>count</th>\n",
       "      <td>140.000000</td>\n",
       "    </tr>\n",
       "    <tr>\n",
       "      <th>mean</th>\n",
       "      <td>2251.685714</td>\n",
       "    </tr>\n",
       "    <tr>\n",
       "      <th>std</th>\n",
       "      <td>1785.390041</td>\n",
       "    </tr>\n",
       "    <tr>\n",
       "      <th>min</th>\n",
       "      <td>90.000000</td>\n",
       "    </tr>\n",
       "    <tr>\n",
       "      <th>25%</th>\n",
       "      <td>818.500000</td>\n",
       "    </tr>\n",
       "    <tr>\n",
       "      <th>50%</th>\n",
       "      <td>1941.500000</td>\n",
       "    </tr>\n",
       "    <tr>\n",
       "      <th>75%</th>\n",
       "      <td>3207.250000</td>\n",
       "    </tr>\n",
       "    <tr>\n",
       "      <th>max</th>\n",
       "      <td>8037.000000</td>\n",
       "    </tr>\n",
       "  </tbody>\n",
       "</table>\n",
       "</div>"
      ],
      "text/plain": [
       "                 0\n",
       "count   140.000000\n",
       "mean   2251.685714\n",
       "std    1785.390041\n",
       "min      90.000000\n",
       "25%     818.500000\n",
       "50%    1941.500000\n",
       "75%    3207.250000\n",
       "max    8037.000000"
      ]
     },
     "execution_count": 48,
     "metadata": {},
     "output_type": "execute_result"
    }
   ],
   "source": [
    "QR.describe()"
   ]
  },
  {
   "cell_type": "code",
   "execution_count": null,
   "metadata": {
    "collapsed": true
   },
   "outputs": [],
   "source": [
    "data_dist.columns = ['Air China', 'All Nippon', 'American', 'British Airways', 'China Eastern', 'China Southern', 'Delta', 'Emirates', 'Etihad','Lufthansa',\n",
    "                  'Ryanair', 'Qatar','United']"
   ]
  },
  {
   "cell_type": "code",
   "execution_count": 12,
   "metadata": {},
   "outputs": [
    {
     "ename": "ValueError",
     "evalue": "cannot copy sequence with size 496 to array axis with dimension 1",
     "output_type": "error",
     "traceback": [
      "\u001b[0;31m---------------------------------------------------------------------------\u001b[0m",
      "\u001b[0;31mValueError\u001b[0m                                Traceback (most recent call last)",
      "\u001b[0;32m<ipython-input-12-3fd4f84a81b5>\u001b[0m in \u001b[0;36m<module>\u001b[0;34m()\u001b[0m\n\u001b[0;32m----> 1\u001b[0;31m \u001b[0mnp\u001b[0m\u001b[0;34m.\u001b[0m\u001b[0msavetxt\u001b[0m\u001b[0;34m(\u001b[0m\u001b[0;34m'dist_compiled.csv'\u001b[0m\u001b[0;34m,\u001b[0m\u001b[0mdata_dist\u001b[0m\u001b[0;34m)\u001b[0m\u001b[0;34m\u001b[0m\u001b[0m\n\u001b[0m",
      "\u001b[0;32m~/miniconda2/envs/py36/lib/python3.6/site-packages/numpy/lib/npyio.py\u001b[0m in \u001b[0;36msavetxt\u001b[0;34m(fname, X, fmt, delimiter, newline, header, footer, comments)\u001b[0m\n\u001b[1;32m   1199\u001b[0m \u001b[0;34m\u001b[0m\u001b[0m\n\u001b[1;32m   1200\u001b[0m     \u001b[0;32mtry\u001b[0m\u001b[0;34m:\u001b[0m\u001b[0;34m\u001b[0m\u001b[0m\n\u001b[0;32m-> 1201\u001b[0;31m         \u001b[0mX\u001b[0m \u001b[0;34m=\u001b[0m \u001b[0mnp\u001b[0m\u001b[0;34m.\u001b[0m\u001b[0masarray\u001b[0m\u001b[0;34m(\u001b[0m\u001b[0mX\u001b[0m\u001b[0;34m)\u001b[0m\u001b[0;34m\u001b[0m\u001b[0m\n\u001b[0m\u001b[1;32m   1202\u001b[0m \u001b[0;34m\u001b[0m\u001b[0m\n\u001b[1;32m   1203\u001b[0m         \u001b[0;31m# Handle 1-dimensional arrays\u001b[0m\u001b[0;34m\u001b[0m\u001b[0;34m\u001b[0m\u001b[0m\n",
      "\u001b[0;32m~/miniconda2/envs/py36/lib/python3.6/site-packages/numpy/core/numeric.py\u001b[0m in \u001b[0;36masarray\u001b[0;34m(a, dtype, order)\u001b[0m\n\u001b[1;32m    529\u001b[0m \u001b[0;34m\u001b[0m\u001b[0m\n\u001b[1;32m    530\u001b[0m     \"\"\"\n\u001b[0;32m--> 531\u001b[0;31m     \u001b[0;32mreturn\u001b[0m \u001b[0marray\u001b[0m\u001b[0;34m(\u001b[0m\u001b[0ma\u001b[0m\u001b[0;34m,\u001b[0m \u001b[0mdtype\u001b[0m\u001b[0;34m,\u001b[0m \u001b[0mcopy\u001b[0m\u001b[0;34m=\u001b[0m\u001b[0;32mFalse\u001b[0m\u001b[0;34m,\u001b[0m \u001b[0morder\u001b[0m\u001b[0;34m=\u001b[0m\u001b[0morder\u001b[0m\u001b[0;34m)\u001b[0m\u001b[0;34m\u001b[0m\u001b[0m\n\u001b[0m\u001b[1;32m    532\u001b[0m \u001b[0;34m\u001b[0m\u001b[0m\n\u001b[1;32m    533\u001b[0m \u001b[0;34m\u001b[0m\u001b[0m\n",
      "\u001b[0;31mValueError\u001b[0m: cannot copy sequence with size 496 to array axis with dimension 1"
     ]
    }
   ],
   "source": [
    "np.savetxt('dist_compiled.csv',data_dist)"
   ]
  },
  {
   "cell_type": "code",
   "execution_count": null,
   "metadata": {
    "collapsed": true
   },
   "outputs": [],
   "source": []
  }
 ],
 "metadata": {
  "kernelspec": {
   "display_name": "Python 3",
   "language": "python",
   "name": "python3"
  },
  "language_info": {
   "codemirror_mode": {
    "name": "ipython",
    "version": 3
   },
   "file_extension": ".py",
   "mimetype": "text/x-python",
   "name": "python",
   "nbconvert_exporter": "python",
   "pygments_lexer": "ipython3",
   "version": "3.6.3"
  }
 },
 "nbformat": 4,
 "nbformat_minor": 2
}
